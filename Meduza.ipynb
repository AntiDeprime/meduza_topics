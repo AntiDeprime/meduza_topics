{
 "cells": [
  {
   "cell_type": "markdown",
   "metadata": {},
   "source": [
    "# Extracting Topics from News Articles on [meduza.io](https://meduza.io/en)\n",
    "\n",
    "In this notebook, we will extract topics from news articles on [Meduza website](https://meduza.io/en) using Scikit-Learn. \n",
    "\n",
    "Meduza is a Riga-based online newspaper writing about Russia.\n",
    "\n",
    "First, we need to collect links to the news articles. <br>Luckily, Meduza has an [RSS feed](https://meduza.io/rss/en/all) that is pretty easy to parse using BeautifulSoup4."
   ]
  },
  {
   "cell_type": "code",
   "execution_count": 1,
   "metadata": {},
   "outputs": [
    {
     "name": "stdout",
     "output_type": "stream",
     "text": [
      "30 links were collected\n"
     ]
    }
   ],
   "source": [
    "import requests\n",
    "from bs4 import BeautifulSoup as bs\n",
    "import re\n",
    "from pprint import pprint\n",
    "import pandas as pd\n",
    "\n",
    "\n",
    "# Meduza filters requests on User-Agents, using a User-Agent of Chrome Browser\n",
    "user_agent = 'Mozilla/5.0 (Windows NT 10.0; Win64; x64) AppleWebKit/537.36 (KHTML, like Gecko) Chrome/74.0.3729.169 Safari/537.36'\n",
    "headers = {'User-Agent': user_agent}\n",
    "\n",
    "# collecting the page\n",
    "r = requests.get('https://meduza.io/rss/en/all', headers=headers)\n",
    "\n",
    "#parsing the page, extracting urls  \n",
    "soup = bs(r.text, 'xml')\n",
    "links = [l.text for l in soup.findAll('link') if 'https://meduza.io/en/' in l.text]\n",
    "print (f'{len(links)} links were collected')"
   ]
  },
  {
   "cell_type": "markdown",
   "metadata": {},
   "source": [
    "We have collected links to 30 latest articles. Now let's get these web-pages and parse their content.\n",
    "\n",
    "After examining several pages [[1]](https://meduza.io/en/feature/2020/03/13/selling-vedomosti)[[2]](https://meduza.io/en/feature/2020/03/13/a-faction-s-a-faction-but-i-have-my-conscience-too)[[3]](https://meduza.io/en/feature/2020/03/13/the-kremlin-lies-to-kids),\n",
    "I found that all article-related text elements contain `'SimpleBlock-'` in their class selector. <br>\n",
    "The article title is always the first element with `'Title-root'` in its class selector. \n",
    "\n",
    "\n",
    "Page structure is quite straightforward, let's try to parse it."
   ]
  },
  {
   "cell_type": "code",
   "execution_count": 2,
   "metadata": {
    "code_folding": []
   },
   "outputs": [],
   "source": [
    "def parse_meduza_page(link):\n",
    "    '''Extracting data from a news article page'''\n",
    "    # collecting the page\n",
    "    r = requests.get(link, headers=headers)\n",
    "    # loading page's html to BeautifulSoup4\n",
    "    soup = bs(r.text, 'lxml')\n",
    "    \n",
    "    # building regular expressions to filter paragraphs and header\n",
    "    paragraphs = re.compile('^SimpleBlock-.*')\n",
    "    titles = re.compile('.*Title-root$')\n",
    "    \n",
    "    # extracting article text and its header \n",
    "    pagetext = ' '.join([p.text for p in soup.findAll(True, paragraphs)])\n",
    "    title = soup.find(True, titles).text\n",
    "    # extracting the timestamp\n",
    "    timestamp = soup.find(True, 'Timestamp-root').text\n",
    "    \n",
    "    # returning parsed data as a dict \n",
    "    return(dict(\n",
    "                pagetext=pagetext,\n",
    "                title=title,\n",
    "                timestamp=timestamp,\n",
    "                url=r.url))"
   ]
  },
  {
   "cell_type": "code",
   "execution_count": 3,
   "metadata": {},
   "outputs": [
    {
     "data": {
      "text/html": [
       "<style  type=\"text/css\" >\n",
       "</style><table id=\"T_051a9544_6579_11ea_817e_3514d2aaf518\" ><thead>    <tr>        <th class=\"col_heading level0 col0\" >pagetext</th>        <th class=\"col_heading level0 col1\" >title</th>        <th class=\"col_heading level0 col2\" >timestamp</th>        <th class=\"col_heading level0 col3\" >url</th>    </tr></thead><tbody>\n",
       "                <tr>\n",
       "                                <td id=\"T_051a9544_6579_11ea_817e_3514d2aaf518row0_col0\" class=\"data row0 col0\" >On March 12, the State Council of Tatarstan voted in favor of major changes to the Russian Constitution, falling into step with other regional parliaments whose approval was needed to move toward a nationwide vote on the amendments. In every region, legislators voted for the changes almost unanimously — even on a nationwide scale, there were only a few negative votes. One of them was the singular “no” among Tatarstan’s deputies: Rkail Zaidullin, a member of the United Russia faction (but not the associated party, which is politically dominant in Russia). Zaidullin said he specifically objected to the clause in the proposed amendments that calls ethnically Russian people foundational to the Russian state. Meduza special correspondent Andrey Pertsev spoke with the legislator and asked him to elaborate on his views.  Did you vote against the constitutional amendments because of the clause on the Russian ethnos as foundational to the Russian state? Yes, and I spoke during the hearing to criticize [that clause]. After all, we’re not the only ones seeing a lot of debates over that change; the same thing is happening in other national republics. It’s just that most deputies are part of a “united” party: They might be against it in their souls, but they vote along the party line. You’re also part of the United Russia faction, but you voted no. Did others try to convince you to vote in favor of the amendments? I have been speaking out about that clause for a long time. Even on a logical level, I couldn’t find any way to approve it — that would have meant going against myself. A faction’s a faction, but I have my conscience, too. Just before the [voting] session, when the [United Russia] faction members got together and decided to vote as a bloc, I abstained — I’m not in the party, see. My colleagues in the faction took my vote calmly. They know I’m a writer, a free person; they also react just fine to my speeches because they know I say what I think and do what I say. There was no pressure on me either before or after the vote. Does the Constitution’s current language about Russia as a multiethnic people meet your standards? Exactly — right now, that’s what it says: Russia is a federation, and that doesn’t infringe on or detract from the rights of the Russian ethnos in any way. Nobody doubts the greatness [of the Russian people] — we’re all children of Russian culture and literature, of Pushkin, of Tolstoy. Why write that into the Constitution? We shouldn’t be thinking in sixteenth-century categories! Right now, the separation of church and state is codified, but the amendments have a clause about God over a thousand-year history. There’s no need for that in the Constitution, in my opinion. Sulustaana Myraan, a deputy in the Yakutian parliament from United Russia, not only voted against the amendments but also resigned her post. Have you heard about her? I have, and her opinion is noteworthy as well, but it’s never too late [to resign]. The amendments are being passed as a set, and that set includes clauses on the Russian government’s system of power: the State Council, zeroing out presidential term counts, and so on. What do you think about those measures? I’m critical of them as well. There should be alternation of power in a democratic society, right? I’m not familiar with all the intricacies of politics, of course, but why do we need a State Council, too? We’ll have to rename our own State Council [i.e. the legislature of Tatarstan]. Maybe they did think it all up just to zero out the [presidential] terms. I don’t know. But they want to introduce the concept of federal territories into the Constitution. If a given territory is considered important, then it can be controlled directly by the federal government separately from the other subjects of the [Russian] Federation. That’s also problematic, and it’s against federalism. I’m for the Russian Federation, so I’m against amendments like those.</td>\n",
       "                        <td id=\"T_051a9544_6579_11ea_817e_3514d2aaf518row0_col1\" class=\"data row0 col1\" >‘A faction’s a faction, but I have my conscience, too’ Why a Tatar legislator from the bloc representing Russia’s ruling party voted no on the new constitutional amendments</td>\n",
       "                        <td id=\"T_051a9544_6579_11ea_817e_3514d2aaf518row0_col2\" class=\"data row0 col2\" >6:30 pm, March 13, 2020</td>\n",
       "                        <td id=\"T_051a9544_6579_11ea_817e_3514d2aaf518row0_col3\" class=\"data row0 col3\" >https://meduza.io/en/feature/2020/03/13/a-faction-s-a-faction-but-i-have-my-conscience-too</td>\n",
       "            </tr>\n",
       "            <tr>\n",
       "                                <td id=\"T_051a9544_6579_11ea_817e_3514d2aaf518row1_col0\" class=\"data row1 col0\" >Effective on March 16, Russia is imposing new restrictions on air travel to countries inside the European Union, as part of the expanding effort to contain the spread of coronavirus. According to an announcement from Russia’s federal task force, air travel will now be limited to flights destined only for the capital cities of EU nations, though the new rules do not apply to charter flights, according to the news agency Interfax. Russia is introducing identical limits on air travel to Norway and Switzerland, maintaining flights from Moscow to Geneva and Oslo, as well as charter flights.</td>\n",
       "                        <td id=\"T_051a9544_6579_11ea_817e_3514d2aaf518row1_col1\" class=\"data row1 col1\" >Russia restricts air travel to the EU, allowing only charter flights and planes headed to capital cities</td>\n",
       "                        <td id=\"T_051a9544_6579_11ea_817e_3514d2aaf518row1_col2\" class=\"data row1 col2\" >5:19 pm, March 13, 2020</td>\n",
       "                        <td id=\"T_051a9544_6579_11ea_817e_3514d2aaf518row1_col3\" class=\"data row1 col3\" >https://meduza.io/en/news/2020/03/13/russia-restricts-air-travel-to-the-eu-allowing-only-charter-flights-and-planes-headed-to-capital-cities</td>\n",
       "            </tr>\n",
       "            <tr>\n",
       "                                <td id=\"T_051a9544_6579_11ea_817e_3514d2aaf518row2_col0\" class=\"data row2 col0\" >As Russia’s confirmed COVID-19 case count continues to hover in the mid-double digits, large companies and cities outside Moscow are beginning to take precautions. St. Petersburg Governor Alexander Beglov announced that from March 16 to April 30, all events involving more than 1,000 people will be banned. The surrounding Leningrad region, meanwhile, banned events of over 300 people following its first confirmed case: a woman from Kudrovo who had recently visited Italy. Large Russian corporations, including state corporations, are beginning to take precautions as well. In many cases, those measures remain relatively mild. The oil and gas company Gazprom recommended that its employees “refrain from traveling frequently abroad,” an anonymous source told Interfax. While employees will continue to work in person, meetings involving more than 10 people will be held by videoconference. At Russian Railways, meanwhile, corporate leaders asked their employees to suspend nonessential travel outside Russia but did not appear to take additional preventative measures. Yandex, a Russian tech giant whose services echo Google’s, has gone further than its peers, telling its employees to work from home for at least a week if possible. The company has also told workers to avoid public transit if they do come to work, offering to compensate them for taxi rides. The company previously cancelled events and recommended moving meetings of more than 15 – 20 people online.</td>\n",
       "                        <td id=\"T_051a9544_6579_11ea_817e_3514d2aaf518row2_col1\" class=\"data row2 col1\" >Major Russian companies take mostly minor measures against coronavirus as St. Petersburg bans large events</td>\n",
       "                        <td id=\"T_051a9544_6579_11ea_817e_3514d2aaf518row2_col2\" class=\"data row2 col2\" >3:38 pm, March 13, 2020</td>\n",
       "                        <td id=\"T_051a9544_6579_11ea_817e_3514d2aaf518row2_col3\" class=\"data row2 col3\" >https://meduza.io/en/news/2020/03/13/major-russian-companies-take-mostly-minor-measures-against-coronavirus-as-st-petersburg-bans-large-events</td>\n",
       "            </tr>\n",
       "    </tbody></table>"
      ],
      "text/plain": [
       "<pandas.io.formats.style.Styler at 0x7fe7f20ade90>"
      ]
     },
     "execution_count": 3,
     "metadata": {},
     "output_type": "execute_result"
    }
   ],
   "source": [
    "articles = [parse_meduza_page(l) for l in links] \n",
    "df = pd.DataFrame.from_records(articles)\n",
    "df.to_csv('./meduza.csv')\n",
    "# df = pd.read_csv('./meduza.csv')\n",
    "\n",
    "df.head(3).style.hide_index()"
   ]
  },
  {
   "cell_type": "markdown",
   "metadata": {},
   "source": [
    "Success! \n",
    "\n",
    "Now we will use the Non-negative Matrix Factorization (NMF) method to extract topics from the articles. First, we will use `TfidfVectorizer`, that transforms text to a word count matrix and then normalizes it to tf-idf representation (which is recommended for NMF). \n",
    "\n",
    "We will exclude stopwords (like 'and', 'the', 'I'), the words that occur more than in 95% of articles and less than in 2 articles. We will include single words and two-word combinations: `ngram_range=(1,2)`"
   ]
  },
  {
   "cell_type": "code",
   "execution_count": 4,
   "metadata": {},
   "outputs": [],
   "source": [
    "from sklearn.feature_extraction.text import  TfidfVectorizer\n",
    "from sklearn.decomposition import NMF\n",
    "\n",
    "tfidf_vectorizer = TfidfVectorizer(max_df=0.95, \n",
    "                                   min_df=2, \n",
    "                                   ngram_range=(1,2), \n",
    "                                   stop_words='english')\n",
    "\n",
    "tfidf = tfidf_vectorizer.fit_transform(df['pagetext'])\n",
    "tfidf_feature_names = tfidf_vectorizer.get_feature_names()"
   ]
  },
  {
   "cell_type": "markdown",
   "metadata": {},
   "source": [
    "Now to the model building! \n",
    "\n",
    "We'll use NMF with a slight `l1 regularization` (lasso) to reduce small coefficients to zero (it might help with topic interpretability). As dataset contains only 30 observations, we will use a small number of components and hope they will be interpretable. \n",
    "\n",
    "The code below fits the model and then prints top-20 words for every component. "
   ]
  },
  {
   "cell_type": "code",
   "execution_count": 5,
   "metadata": {},
   "outputs": [
    {
     "name": "stdout",
     "output_type": "stream",
     "text": [
      "Topic: 1\n",
      "['duma', 'state duma', 'state', 'putin', 'term', 'amendment', 'elections', 'constitutional', 'tereshkova', 'snap', 'term clock', 'clock', 'proposal', 'constitutional reform', 'reform', 'presidential', 'reform legislation', 'zero', 'term limits', 'vladimir']\n",
      "Topic: 2\n",
      "['cases', 'russia', 'coronavirus', 'china', 'italy', 'new', 'italian', 'countries', 'people', 'infected', 'region', 'moscow', 'virus', 'tested', 'positive', 'tested positive', 'number', 'patients', 'disease', 'recorded']\n",
      "Topic: 3\n",
      "['amendments', 'vote', 'constitution', 'constitutional', 'nationwide', 'russia', 'nationwide vote', 'legislation', 'article', 'court', 'law', 'voting', 'regional', 'putin', 'nation', 'reforms', 'russia constitution', 'vladimir putin', 'territories', 'constituent territories']\n",
      "Topic: 4\n",
      "['oil', 'meduza', 'russian', 'agreement', 'case', 'sources', 'business', 'percent', 'alexey', 'buyers', 'ruble', 'prices', 'confirmed', 'network case', 'network', 'million', 'russia', 'media', 'price', 'said']\n",
      "Topic: 5\n",
      "['march', '000', 'moscow', '10', 'events', 'april', 'mayor', '000 people', 'people', 'public', 'sobyanin', '21', 'march 21', 'april 10', 'hold', 'mass', 'march 10', '22', 'scheduled', 'place']\n",
      "Topic: 6\n",
      "['flights', 'air travel', 'air', 'charter', 'charter flights', 'travel', 'according', 'spread coronavirus', 'airlines', '30', 'april 30', 'coronavirus according', 'spread', 'spain', 'march 13', 'according news', 'effort', 'flights moscow', '13', 'russia imposing']\n",
      "Topic: 7\n",
      "['peskov', 'president', 'putin', 'children', 'website', 'kremlin', 'current', 'situation', 'russia', 'country', 'reason', 'explained', 'putin said', 'spokesman', 'dmitry peskov', 'opinion', 'dmitry', 'important', 'says', 'just']\n"
     ]
    }
   ],
   "source": [
    "nmf = NMF(n_components=7, alpha=.1, l1_ratio=0, random_state=42).fit(tfidf)\n",
    "\n",
    "def display_topics(model, feature_names, no_top_words):\n",
    "    \"\"\"Show top words for every topic in the model\"\"\"\n",
    "    for topic_idx, topic in enumerate(model.components_):\n",
    "        print (f\"Topic: {topic_idx+1}\")\n",
    "        print ([feature_names[i] for i in topic.argsort()[:-no_top_words - 1:-1]])\n",
    "\n",
    "display_topics(nmf, tfidf_feature_names, 20)"
   ]
  },
  {
   "cell_type": "markdown",
   "metadata": {},
   "source": [
    "Most of the topics seem to be quite interpretable.\n",
    "\n",
    "We can examine the performance of the model by comparing the most prominent topic for every article with the article title. "
   ]
  },
  {
   "cell_type": "code",
   "execution_count": 6,
   "metadata": {},
   "outputs": [
    {
     "data": {
      "text/html": [
       "<style  type=\"text/css\" >\n",
       "</style><table id=\"T_0561c2c0_6579_11ea_817e_3514d2aaf518\" ><thead>    <tr>        <th class=\"col_heading level0 col0\" >0</th>        <th class=\"col_heading level0 col1\" >1</th>    </tr></thead><tbody>\n",
       "                <tr>\n",
       "                                <td id=\"T_0561c2c0_6579_11ea_817e_3514d2aaf518row0_col0\" class=\"data row0 col0\" >‘A faction’s a faction, but I have my conscience, too’ Why a Tatar legislator from the bloc representing Russia’s ruling party voted no on the new constitutional amendments</td>\n",
       "                        <td id=\"T_0561c2c0_6579_11ea_817e_3514d2aaf518row0_col1\" class=\"data row0 col1\" >Russia's constitutional amendments</td>\n",
       "            </tr>\n",
       "            <tr>\n",
       "                                <td id=\"T_0561c2c0_6579_11ea_817e_3514d2aaf518row1_col0\" class=\"data row1 col0\" >Russia restricts air travel to the EU, allowing only charter flights and planes headed to capital cities</td>\n",
       "                        <td id=\"T_0561c2c0_6579_11ea_817e_3514d2aaf518row1_col1\" class=\"data row1 col1\" >Flights cancellations</td>\n",
       "            </tr>\n",
       "            <tr>\n",
       "                                <td id=\"T_0561c2c0_6579_11ea_817e_3514d2aaf518row2_col0\" class=\"data row2 col0\" >Major Russian companies take mostly minor measures against coronavirus as St. Petersburg bans large events</td>\n",
       "                        <td id=\"T_0561c2c0_6579_11ea_817e_3514d2aaf518row2_col1\" class=\"data row2 col1\" >Mass public events im Moscow?</td>\n",
       "            </tr>\n",
       "            <tr>\n",
       "                                <td id=\"T_0561c2c0_6579_11ea_817e_3514d2aaf518row3_col0\" class=\"data row3 col0\" >Russia's number of confirmed coronavirus infections reaches 45</td>\n",
       "                        <td id=\"T_0561c2c0_6579_11ea_817e_3514d2aaf518row3_col1\" class=\"data row3 col1\" >COVID-19</td>\n",
       "            </tr>\n",
       "            <tr>\n",
       "                                <td id=\"T_0561c2c0_6579_11ea_817e_3514d2aaf518row4_col0\" class=\"data row4 col0\" >Kremlin spokesman says Putin is safe from coronavirus, but don't expect to see his medical records</td>\n",
       "                        <td id=\"T_0561c2c0_6579_11ea_817e_3514d2aaf518row4_col1\" class=\"data row4 col1\" >Kremlin-related?</td>\n",
       "            </tr>\n",
       "            <tr>\n",
       "                                <td id=\"T_0561c2c0_6579_11ea_817e_3514d2aaf518row5_col0\" class=\"data row5 col0\" >The Kremlin lies to kids Putin’s spokesman refuses to change language on the administration’s website for children that says presidents are prohibited from running for a third consecutive term</td>\n",
       "                        <td id=\"T_0561c2c0_6579_11ea_817e_3514d2aaf518row5_col1\" class=\"data row5 col1\" >Kremlin-related?</td>\n",
       "            </tr>\n",
       "            <tr>\n",
       "                                <td id=\"T_0561c2c0_6579_11ea_817e_3514d2aaf518row6_col0\" class=\"data row6 col0\" >‘Constitutional Gymnastics’: Russia's strange initiative to keep Vladimir Putin in office for years to come</td>\n",
       "                        <td id=\"T_0561c2c0_6579_11ea_817e_3514d2aaf518row6_col1\" class=\"data row6 col1\" >Russia's constitutional amendments</td>\n",
       "            </tr>\n",
       "            <tr>\n",
       "                                <td id=\"T_0561c2c0_6579_11ea_817e_3514d2aaf518row7_col0\" class=\"data row7 col0\" >Selling ‘Vedomosti’ Sources say two media entrepreneurs with tangled political histories are buying Russia’s leading business newspaper</td>\n",
       "                        <td id=\"T_0561c2c0_6579_11ea_817e_3514d2aaf518row7_col1\" class=\"data row7 col1\" >Market crash</td>\n",
       "            </tr>\n",
       "            <tr>\n",
       "                                <td id=\"T_0561c2c0_6579_11ea_817e_3514d2aaf518row8_col0\" class=\"data row8 col0\" >Citing coronavirus concerns, Russia closes its borders to Italian nationals and other foreigners arriving from Italy</td>\n",
       "                        <td id=\"T_0561c2c0_6579_11ea_817e_3514d2aaf518row8_col1\" class=\"data row8 col1\" >COVID-19</td>\n",
       "            </tr>\n",
       "            <tr>\n",
       "                                <td id=\"T_0561c2c0_6579_11ea_817e_3514d2aaf518row9_col0\" class=\"data row9 col0\" >34 people have now tested positive for coronavirus in Russia</td>\n",
       "                        <td id=\"T_0561c2c0_6579_11ea_817e_3514d2aaf518row9_col1\" class=\"data row9 col1\" >COVID-19</td>\n",
       "            </tr>\n",
       "            <tr>\n",
       "                                <td id=\"T_0561c2c0_6579_11ea_817e_3514d2aaf518row10_col0\" class=\"data row10 col0\" >In brief How high-ranking Russian officials are justifying the move to let Putin serve again (and again)</td>\n",
       "                        <td id=\"T_0561c2c0_6579_11ea_817e_3514d2aaf518row10_col1\" class=\"data row10 col1\" >Kremlin-related?</td>\n",
       "            </tr>\n",
       "            <tr>\n",
       "                                <td id=\"T_0561c2c0_6579_11ea_817e_3514d2aaf518row11_col0\" class=\"data row11 col0\" >One of the lawmakers present for Putin's speech this week is now quarantined, after hiding a trip to France and failing to self-isolate</td>\n",
       "                        <td id=\"T_0561c2c0_6579_11ea_817e_3514d2aaf518row11_col1\" class=\"data row11 col1\" >Zero out of the Putin's term</td>\n",
       "            </tr>\n",
       "            <tr>\n",
       "                                <td id=\"T_0561c2c0_6579_11ea_817e_3514d2aaf518row12_col0\" class=\"data row12 col0\" >Russia's constitutional amendments speed through regional legislatures en route to the Constitutional Court and then voters</td>\n",
       "                        <td id=\"T_0561c2c0_6579_11ea_817e_3514d2aaf518row12_col1\" class=\"data row12 col1\" >Russia's constitutional amendments</td>\n",
       "            </tr>\n",
       "            <tr>\n",
       "                                <td id=\"T_0561c2c0_6579_11ea_817e_3514d2aaf518row13_col0\" class=\"data row13 col0\" >COVID cancel culture Whose concerts and which protests are getting shut down under Moscow’s blanket ban on large public events</td>\n",
       "                        <td id=\"T_0561c2c0_6579_11ea_817e_3514d2aaf518row13_col1\" class=\"data row13 col1\" >Mass public events im Moscow?</td>\n",
       "            </tr>\n",
       "            <tr>\n",
       "                                <td id=\"T_0561c2c0_6579_11ea_817e_3514d2aaf518row14_col0\" class=\"data row14 col0\" >Not very How legal is the mad dash to overhaul Russia’s Constitution?</td>\n",
       "                        <td id=\"T_0561c2c0_6579_11ea_817e_3514d2aaf518row14_col1\" class=\"data row14 col1\" >Russia's constitutional amendments</td>\n",
       "            </tr>\n",
       "            <tr>\n",
       "                                <td id=\"T_0561c2c0_6579_11ea_817e_3514d2aaf518row15_col0\" class=\"data row15 col0\" >Russia limits all air travel to Italy, Germany, France, and Spain to flights through Sheremetyevo</td>\n",
       "                        <td id=\"T_0561c2c0_6579_11ea_817e_3514d2aaf518row15_col1\" class=\"data row15 col1\" >Flights cancellations</td>\n",
       "            </tr>\n",
       "            <tr>\n",
       "                                <td id=\"T_0561c2c0_6579_11ea_817e_3514d2aaf518row16_col0\" class=\"data row16 col0\" >Aeroflot halts nearly all flights to Spain, France, and Germany, amid concerns about coronavirus</td>\n",
       "                        <td id=\"T_0561c2c0_6579_11ea_817e_3514d2aaf518row16_col1\" class=\"data row16 col1\" >Flights cancellations</td>\n",
       "            </tr>\n",
       "            <tr>\n",
       "                                <td id=\"T_0561c2c0_6579_11ea_817e_3514d2aaf518row17_col0\" class=\"data row17 col0\" >The upper house of Russia's Parliament waited just a few hours before passing constitutional reforms that could keep Putin in office until 2036</td>\n",
       "                        <td id=\"T_0561c2c0_6579_11ea_817e_3514d2aaf518row17_col1\" class=\"data row17 col1\" >Zero out of the Putin's term</td>\n",
       "            </tr>\n",
       "            <tr>\n",
       "                                <td id=\"T_0561c2c0_6579_11ea_817e_3514d2aaf518row18_col0\" class=\"data row18 col0\" >Citing coronavirus fears, Moscow bans all mass public events until April 10</td>\n",
       "                        <td id=\"T_0561c2c0_6579_11ea_817e_3514d2aaf518row18_col1\" class=\"data row18 col1\" >Mass public events im Moscow?</td>\n",
       "            </tr>\n",
       "            <tr>\n",
       "                                <td id=\"T_0561c2c0_6579_11ea_817e_3514d2aaf518row19_col0\" class=\"data row19 col0\" >It took five hours for Russian lawmakers to propose, consider, and adopt legislation that could keep Putin in office for another 16 years</td>\n",
       "                        <td id=\"T_0561c2c0_6579_11ea_817e_3514d2aaf518row19_col1\" class=\"data row19 col1\" >Zero out of the Putin's term</td>\n",
       "            </tr>\n",
       "            <tr>\n",
       "                                <td id=\"T_0561c2c0_6579_11ea_817e_3514d2aaf518row20_col0\" class=\"data row20 col0\" >Forensic experts confirm the discovery of Ekaterina Levchenko's remains, corroborating a murder confession reported by ‘Meduza’</td>\n",
       "                        <td id=\"T_0561c2c0_6579_11ea_817e_3514d2aaf518row20_col1\" class=\"data row20 col1\" >Market crash</td>\n",
       "            </tr>\n",
       "            <tr>\n",
       "                                <td id=\"T_0561c2c0_6579_11ea_817e_3514d2aaf518row21_col0\" class=\"data row21 col0\" >Russian lawmakers adopt the second reading of major constitutional reform legislation</td>\n",
       "                        <td id=\"T_0561c2c0_6579_11ea_817e_3514d2aaf518row21_col1\" class=\"data row21 col1\" >Zero out of the Putin's term</td>\n",
       "            </tr>\n",
       "            <tr>\n",
       "                                <td id=\"T_0561c2c0_6579_11ea_817e_3514d2aaf518row22_col0\" class=\"data row22 col0\" >The forever president Russian lawmakers amend constitutional reform legislation to keep Vladimir Putin in power</td>\n",
       "                        <td id=\"T_0561c2c0_6579_11ea_817e_3514d2aaf518row22_col1\" class=\"data row22 col1\" >Zero out of the Putin's term</td>\n",
       "            </tr>\n",
       "            <tr>\n",
       "                                <td id=\"T_0561c2c0_6579_11ea_817e_3514d2aaf518row23_col0\" class=\"data row23 col0\" >Putin will make a rare personal visit to the State Duma to discuss a proposal that could extend his presidency to 2036</td>\n",
       "                        <td id=\"T_0561c2c0_6579_11ea_817e_3514d2aaf518row23_col1\" class=\"data row23 col1\" >Zero out of the Putin's term</td>\n",
       "            </tr>\n",
       "            <tr>\n",
       "                                <td id=\"T_0561c2c0_6579_11ea_817e_3514d2aaf518row24_col0\" class=\"data row24 col0\" >Russian lawmakers move to extend Putin's presidency to 2036</td>\n",
       "                        <td id=\"T_0561c2c0_6579_11ea_817e_3514d2aaf518row24_col1\" class=\"data row24 col1\" >Zero out of the Putin's term</td>\n",
       "            </tr>\n",
       "            <tr>\n",
       "                                <td id=\"T_0561c2c0_6579_11ea_817e_3514d2aaf518row25_col0\" class=\"data row25 col0\" >Russian lawmakers move forward with a proposal to hold snap parliamentary elections</td>\n",
       "                        <td id=\"T_0561c2c0_6579_11ea_817e_3514d2aaf518row25_col1\" class=\"data row25 col1\" >Zero out of the Putin's term</td>\n",
       "            </tr>\n",
       "            <tr>\n",
       "                                <td id=\"T_0561c2c0_6579_11ea_817e_3514d2aaf518row26_col0\" class=\"data row26 col0\" >Black Monday The ruble is nosediving thanks to a coronavirus-triggered oil price collapse. Is Russia spiraling into another economic crisis?</td>\n",
       "                        <td id=\"T_0561c2c0_6579_11ea_817e_3514d2aaf518row26_col1\" class=\"data row26 col1\" >Market crash</td>\n",
       "            </tr>\n",
       "            <tr>\n",
       "                                <td id=\"T_0561c2c0_6579_11ea_817e_3514d2aaf518row27_col0\" class=\"data row27 col0\" >Why are there so few reported COVID-19 cases in Russia?</td>\n",
       "                        <td id=\"T_0561c2c0_6579_11ea_817e_3514d2aaf518row27_col1\" class=\"data row27 col1\" >COVID-19</td>\n",
       "            </tr>\n",
       "            <tr>\n",
       "                                <td id=\"T_0561c2c0_6579_11ea_817e_3514d2aaf518row28_col0\" class=\"data row28 col0\" >Italian Embassy tells Italians not to travel to Russia to avoid harsh Moscow quarantine measures</td>\n",
       "                        <td id=\"T_0561c2c0_6579_11ea_817e_3514d2aaf518row28_col1\" class=\"data row28 col1\" >COVID-19</td>\n",
       "            </tr>\n",
       "            <tr>\n",
       "                                <td id=\"T_0561c2c0_6579_11ea_817e_3514d2aaf518row29_col0\" class=\"data row29 col0\" >Putin prioritizes ‘stability’ over ‘alternation of power,’ calls his position ‘fate,’ says he wants to avoid diarchy after 2024</td>\n",
       "                        <td id=\"T_0561c2c0_6579_11ea_817e_3514d2aaf518row29_col1\" class=\"data row29 col1\" >Kremlin-related?</td>\n",
       "            </tr>\n",
       "    </tbody></table>"
      ],
      "text/plain": [
       "<pandas.io.formats.style.Styler at 0x7fe7ee58a890>"
      ]
     },
     "execution_count": 6,
     "metadata": {},
     "output_type": "execute_result"
    }
   ],
   "source": [
    "# naming topics by hand\n",
    "topics = [\"Zero out of the Putin's term\", 'COVID-19', \"Russia's constitutional amendments\", 'Market crash',\n",
    "          'Mass public events im Moscow?', 'Flights cancellations', 'Kremlin-related?']\n",
    "\n",
    "# comparing top-1 topic with the article title \n",
    "rates = pd.DataFrame(nmf.transform(tfidf), columns=topics)\n",
    "pd.DataFrame([df.title.values, rates.T.idxmax().values]).T.style.hide_index()"
   ]
  },
  {
   "cell_type": "markdown",
   "metadata": {},
   "source": [
    "The model did quite a good job: most topics correlate nicely with article titles!\n",
    "\n",
    "This approach can be used for larger datasets and a range of practical applications like automated keywords generation, dimensionality reduction for the text data, development of recommendation systems, etc. "
   ]
  }
 ],
 "metadata": {
  "kernelspec": {
   "display_name": "Python 3",
   "language": "python",
   "name": "python3"
  },
  "language_info": {
   "codemirror_mode": {
    "name": "ipython",
    "version": 3
   },
   "file_extension": ".py",
   "mimetype": "text/x-python",
   "name": "python",
   "nbconvert_exporter": "python",
   "pygments_lexer": "ipython3",
   "version": "3.7.6"
  }
 },
 "nbformat": 4,
 "nbformat_minor": 4
}
